{
 "cells": [
  {
   "cell_type": "code",
   "execution_count": 1,
   "metadata": {
    "collapsed": false
   },
   "outputs": [],
   "source": [
    "import os, sys, urllib, gzip\n",
    "from __future__ import print_function\n",
    "try:\n",
    "    import cPickle as pickle\n",
    "except:\n",
    "    import pickle\n",
    "sys.setrecursionlimit(10000)"
   ]
  },
  {
   "cell_type": "code",
   "execution_count": 2,
   "metadata": {
    "collapsed": false
   },
   "outputs": [],
   "source": [
    "import matplotlib\n",
    "matplotlib.use('Agg') # Change matplotlib backend, in case we have no X server running..\n",
    "import matplotlib.pyplot as plt\n",
    "%matplotlib inline\n",
    "import numpy as np\n",
    "from IPython.display import Image as IPImage\n",
    "from PIL import Image\n",
    "import glob\n",
    "import time\n",
    "import os\n",
    "import scipy"
   ]
  },
  {
   "cell_type": "code",
   "execution_count": 3,
   "metadata": {
    "collapsed": false
   },
   "outputs": [
    {
     "name": "stderr",
     "output_type": "stream",
     "text": [
      "Using gpu device 0: GeForce GT 630M (CNMeM is disabled, CuDNN not available)\n",
      "/home/igor/.local/lib/python2.7/site-packages/theano/tensor/signal/downsample.py:6: UserWarning: downsample module has been moved to the theano.tensor.signal.pool module.\n",
      "  \"downsample module has been moved to the theano.tensor.signal.pool module.\")\n"
     ]
    }
   ],
   "source": [
    "from lasagne.layers import get_output, InputLayer, DenseLayer, Upscale2DLayer, ReshapeLayer\n",
    "from lasagne.nonlinearities import rectify, leaky_rectify, tanh\n",
    "from lasagne.updates import nesterov_momentum\n",
    "from lasagne.objectives import categorical_crossentropy\n",
    "from nolearn.lasagne import NeuralNet, BatchIterator, PrintLayerInfo"
   ]
  },
  {
   "cell_type": "code",
   "execution_count": 4,
   "metadata": {
    "collapsed": false
   },
   "outputs": [
    {
     "name": "stdout",
     "output_type": "stream",
     "text": [
      "Using lasagne.layers (slower)\n"
     ]
    }
   ],
   "source": [
    "from lasagne.layers import Conv2DLayer as Conv2DLayerSlow\n",
    "from lasagne.layers import MaxPool2DLayer as MaxPool2DLayerSlow\n",
    "try:\n",
    "    from lasagne.layers.cuda_convnet import Conv2DCCLayer as Conv2DLayerFast\n",
    "    from lasagne.layers.cuda_convnet import MaxPool2DCCLayer as MaxPool2DLayerFast\n",
    "    print('Using cuda_convnet (faster)')\n",
    "except ImportError:\n",
    "    from lasagne.layers import Conv2DLayer as Conv2DLayerFast\n",
    "    from lasagne.layers import MaxPool2DLayer as MaxPool2DLayerFast\n",
    "    print('Using lasagne.layers (slower)')"
   ]
  },
  {
   "cell_type": "code",
   "execution_count": 6,
   "metadata": {
    "collapsed": true
   },
   "outputs": [],
   "source": [
    "region_width = 28\n",
    "region_height = 28\n",
    "frameMult = 1\n",
    "l_rw=region_width*frameMult\n",
    "l_rh=region_height*frameMult\n",
    "l_rS=l_rw*l_rh\n",
    "l_colors=3\n",
    "\n"
   ]
  },
  {
   "cell_type": "code",
   "execution_count": 7,
   "metadata": {
    "collapsed": false
   },
   "outputs": [],
   "source": [
    "def load_mnist(fname = 'mnist.pkl.gz'):\n",
    "    if not os.path.isfile(fname):\n",
    "        try:\n",
    "            testfile = urllib.request.URLopener()\n",
    "        except:\n",
    "            testfile = urllib.URLopener()\n",
    "        testfile.retrieve(\"http://deeplearning.net/data/mnist/mnist.pkl.gz\", fname)\n",
    "    f = gzip.open(fname, 'rb')\n",
    "    try:\n",
    "        train_set, valid_set, test_set = pickle.load(f, encoding='latin1')\n",
    "    except:\n",
    "        train_set, valid_set, test_set = pickle.load(f)\n",
    "    f.close()\n",
    "    Xmono, y = train_set\n",
    "    Xmono_test=test_set\n",
    "###############################\n",
    "    Xcolor_test1=[]\n",
    "    i=-1\n",
    "    for pict in Xmono_test[0]:\n",
    "        i+=1\n",
    "        d1=np.rollaxis(np.array(zip(pict,pict,pict)).reshape(l_rw,l_rh,3), 2, 0)\n",
    "        Xcolor_test1.extend([d1])\n",
    "    Xcolor_test1=np.asarray(Xcolor_test1, dtype=np.float32)                   \n",
    "\n",
    "\n",
    "    Xcolor1=[]\n",
    "    ycolor1=[]\n",
    "    i=-1\n",
    "    for pict in Xmono:\n",
    "        i+=1\n",
    "        if y[i]<=3 :\n",
    "            d=np.rollaxis(np.array(zip(pict,[0]*l_rS,[0]*l_rS)).reshape(l_rw,l_rh,l_colors), 2, 0)\n",
    "        elif y[i]<=7:\n",
    "            d=np.rollaxis(np.array(zip([0]*l_rS,pict,[0]*l_rS)).reshape(l_rw,l_rh,l_colors), 2, 0)\n",
    "        else:  \n",
    "            d=np.rollaxis(np.array(zip([0]*l_rS,[0]*l_rS,pict)).reshape(l_rw,l_rh,l_colors), 2, 0)\n",
    "        ycolor1.extend([d])\n",
    "        d1=np.rollaxis(np.array(zip(pict,pict,pict)).reshape(l_rw,l_rh,l_colors), 2, 0)\n",
    "        Xcolor1.extend([d1])\n",
    "    Xcolor1=np.asarray(Xcolor1, dtype=np.float32)\n",
    "    ycolor1=np.asarray(ycolor1, dtype=np.float32)\n",
    "\n",
    "    X_out1 = ycolor1.reshape((Xcolor1.shape[0], -1))\n",
    "    return Xcolor1,X_out1,Xcolor_test1 \n",
    "    \n",
    "    "
   ]
  },
  {
   "cell_type": "code",
   "execution_count": 10,
   "metadata": {
    "collapsed": false
   },
   "outputs": [],
   "source": [
    "Xcolor,X_out,Xcolor_test=load_mnist()"
   ]
  },
  {
   "cell_type": "code",
   "execution_count": 11,
   "metadata": {
    "collapsed": true
   },
   "outputs": [],
   "source": [
    "conv_num_filters = 16\n",
    "filter_size = 3\n",
    "pool_size = 2\n",
    "encode_size = 16\n",
    "dense_mid_size = 128\n",
    "#encode_size = 32\n",
    "#dense_mid_size = 256\n",
    "pad_in = 'valid'\n",
    "pad_out = 'full'\n",
    "dense_last_layer=((Xcolor.shape[2]-2*(filter_size-1))/pool_size-(filter_size-1))/pool_size\n",
    "layers = [\n",
    "    (InputLayer, {'shape': (None, Xcolor.shape[1], Xcolor.shape[2], Xcolor.shape[3])}), \n",
    "    (Conv2DLayerFast, {'num_filters': conv_num_filters, 'filter_size': filter_size, 'pad': pad_in}),\n",
    "    (Conv2DLayerFast, {'num_filters': conv_num_filters, 'filter_size': filter_size, 'pad': pad_in}),\n",
    "    (MaxPool2DLayerFast, {'pool_size': pool_size}),\n",
    "    (Conv2DLayerFast, {'num_filters': 2*conv_num_filters, 'filter_size': filter_size, 'pad': pad_in}),\n",
    "    (MaxPool2DLayerFast, {'pool_size': pool_size}),\n",
    "    (ReshapeLayer, {'shape': (([0], -1))}),\n",
    "    (DenseLayer, {'num_units': dense_mid_size}),\n",
    "    (DenseLayer, {'name': 'encode', 'num_units': encode_size}),\n",
    "    (DenseLayer, {'num_units': dense_mid_size}),\n",
    "    #(DenseLayer, {'num_units': 800}),\n",
    "    #(ReshapeLayer, {'shape': (([0], 2*conv_num_filters, 5, 5))}),\n",
    "    (DenseLayer, {'num_units': 2*conv_num_filters*dense_last_layer* dense_last_layer}),\n",
    "    \n",
    "    (ReshapeLayer, {'shape': (([0], 2*conv_num_filters, dense_last_layer, dense_last_layer))}),\n",
    "    (Upscale2DLayer, {'scale_factor': pool_size}),\n",
    "    (Conv2DLayerFast, {'num_filters': conv_num_filters, 'filter_size': filter_size, 'pad': pad_out}),\n",
    "    (Upscale2DLayer, {'scale_factor': pool_size}),\n",
    "    (Conv2DLayerSlow, {'num_filters': conv_num_filters, 'filter_size': filter_size, 'pad': pad_out}),\n",
    "    (Conv2DLayerSlow, {'num_filters': l_colors, 'filter_size': filter_size, 'pad': pad_out}),\n",
    "    (ReshapeLayer, {'shape': (([0], -1))}),\n",
    "]"
   ]
  },
  {
   "cell_type": "code",
   "execution_count": 12,
   "metadata": {
    "collapsed": false
   },
   "outputs": [],
   "source": [
    "ae = NeuralNet(\n",
    "    layers=layers,\n",
    "    max_epochs=20,\n",
    "    \n",
    "    update=nesterov_momentum,\n",
    "    update_learning_rate=0.01,\n",
    "    update_momentum=0.975,\n",
    "    \n",
    "    regression=True,\n",
    "    verbose=1\n",
    ")\n",
    "# ae.initialize()\n",
    "# PrintLayerInfo()(ae)"
   ]
  },
  {
   "cell_type": "code",
   "execution_count": 13,
   "metadata": {
    "collapsed": false
   },
   "outputs": [
    {
     "name": "stdout",
     "output_type": "stream",
     "text": [
      "# Neural Network with 224755 learnable parameters\n",
      "\n",
      "## Layer information\n",
      "\n",
      "  #  name         size\n",
      "---  -----------  --------\n",
      "  0  input0       3x28x28\n",
      "  1  conv2d1      16x26x26\n",
      "  2  conv2d2      16x24x24\n",
      "  3  maxpool2d3   16x12x12\n",
      "  4  conv2d4      32x10x10\n",
      "  5  maxpool2d5   32x5x5\n",
      "  6  reshape6     800\n",
      "  7  dense7       128\n",
      "  8  encode       16\n",
      "  9  dense9       128\n",
      " 10  dense10      800\n",
      " 11  reshape11    32x5x5\n",
      " 12  upscale2d12  32x10x10\n",
      " 13  conv2d13     16x12x12\n",
      " 14  upscale2d14  16x24x24\n",
      " 15  conv2d15     16x26x26\n",
      " 16  conv2d16     3x28x28\n",
      " 17  reshape17    2352\n",
      "\n",
      "  epoch    train loss    valid loss    train/val  dur\n",
      "-------  ------------  ------------  -----------  -------\n",
      "      1       \u001b[36m0.03255\u001b[0m       \u001b[32m0.03125\u001b[0m      1.04160  513.75s\n",
      "      2       \u001b[36m0.03059\u001b[0m       \u001b[32m0.02931\u001b[0m      1.04372  422.42s\n",
      "      3       \u001b[36m0.02714\u001b[0m       \u001b[32m0.02433\u001b[0m      1.11544  423.46s\n",
      "      4       \u001b[36m0.02323\u001b[0m       \u001b[32m0.02156\u001b[0m      1.07741  495.49s\n",
      "      5       \u001b[36m0.02086\u001b[0m       \u001b[32m0.01937\u001b[0m      1.07714  452.75s\n",
      "      6       \u001b[36m0.01865\u001b[0m       \u001b[32m0.01709\u001b[0m      1.09119  440.40s\n",
      "      7       \u001b[36m0.01626\u001b[0m       \u001b[32m0.01500\u001b[0m      1.08413  440.29s\n",
      "      8       \u001b[36m0.01457\u001b[0m       \u001b[32m0.01377\u001b[0m      1.05814  440.44s\n",
      "      9       \u001b[36m0.01354\u001b[0m       \u001b[32m0.01296\u001b[0m      1.04474  447.17s\n",
      "     10       \u001b[36m0.01280\u001b[0m       \u001b[32m0.01236\u001b[0m      1.03602  484.90s\n",
      "     11       \u001b[36m0.01222\u001b[0m       \u001b[32m0.01190\u001b[0m      1.02655  433.98s\n",
      "     12       \u001b[36m0.01175\u001b[0m       \u001b[32m0.01153\u001b[0m      1.01843  448.01s\n",
      "     13       \u001b[36m0.01134\u001b[0m       \u001b[32m0.01118\u001b[0m      1.01434  446.61s\n",
      "     14       \u001b[36m0.01100\u001b[0m       \u001b[32m0.01086\u001b[0m      1.01201  467.42s\n",
      "     15       \u001b[36m0.01069\u001b[0m       \u001b[32m0.01060\u001b[0m      1.00868  450.88s\n",
      "     16       \u001b[36m0.01041\u001b[0m       \u001b[32m0.01032\u001b[0m      1.00868  456.33s\n",
      "     17       \u001b[36m0.01016\u001b[0m       \u001b[32m0.01011\u001b[0m      1.00532  461.52s\n",
      "     18       \u001b[36m0.00993\u001b[0m       \u001b[32m0.00989\u001b[0m      1.00433  457.36s\n",
      "     19       \u001b[36m0.00973\u001b[0m       \u001b[32m0.00971\u001b[0m      1.00104  492.36s\n",
      "     20       \u001b[36m0.00953\u001b[0m       \u001b[32m0.00955\u001b[0m      0.99880  483.74s\n"
     ]
    },
    {
     "data": {
      "text/plain": [
       "NeuralNet(X_tensor_type=None,\n",
       "     batch_iterator_test=<nolearn.lasagne.base.BatchIterator object at 0x7f8efda9f690>,\n",
       "     batch_iterator_train=<nolearn.lasagne.base.BatchIterator object at 0x7f8efda9f590>,\n",
       "     check_input=True, custom_scores=None,\n",
       "     layers=[(<class 'lasagne.layers.input.InputLayer'>, {'shape': (None, 3, 28, 28)}), (<class 'lasagne.layers.conv.Conv2DLayer'>, {'filter_size': 3, 'pad': 'valid', 'num_filters': 16}), (<class 'lasagne.layers.conv.Conv2DLayer'>, {'filter_size': 3, 'pad': 'valid', 'num_filters': 16}), (<class 'lasagne....d': 'full', 'num_filters': 3}), (<class 'lasagne.layers.shape.ReshapeLayer'>, {'shape': ([0], -1)})],\n",
       "     loss=None, max_epochs=20, more_params={},\n",
       "     objective=<function objective at 0x7f8efdaa5050>,\n",
       "     objective_loss_function=<function squared_error at 0x7f8efdf84cf8>,\n",
       "     on_batch_finished=[],\n",
       "     on_epoch_finished=[<nolearn.lasagne.handlers.PrintLog instance at 0x7f8efda61b48>],\n",
       "     on_training_finished=[],\n",
       "     on_training_started=[<nolearn.lasagne.handlers.PrintLayerInfo instance at 0x7f8efda39a70>],\n",
       "     regression=True,\n",
       "     train_split=<nolearn.lasagne.base.TrainSplit object at 0x7f8efda9f6d0>,\n",
       "     update=<function nesterov_momentum at 0x7f8efdf885f0>,\n",
       "     update_learning_rate=0.01, update_momentum=0.975,\n",
       "     use_label_encoder=False, verbose=1,\n",
       "     y_tensor_type=TensorType(float32, matrix))"
      ]
     },
     "execution_count": 13,
     "metadata": {},
     "output_type": "execute_result"
    }
   ],
   "source": [
    "ae.fit(Xcolor, X_out)"
   ]
  },
  {
   "cell_type": "code",
   "execution_count": 90,
   "metadata": {
    "collapsed": false
   },
   "outputs": [
    {
     "data": {
      "text/plain": [
       "<module 'matplotlib.pyplot' from '/usr/lib/python2.7/dist-packages/matplotlib/pyplot.pyc'>"
      ]
     },
     "execution_count": 90,
     "metadata": {},
     "output_type": "execute_result"
    },
    {
     "data": {
      "image/png": "[encoded data removed]",
      "text/plain": [
       "<matplotlib.figure.Figure at 0x7f3f01adae50>"
      ]
     },
     "metadata": {},
     "output_type": "display_data"
    }
   ],
   "source": [
    "from nolearn.lasagne.visualize import plot_loss\n",
    "plot_loss(ae)"
   ]
  },
  {
   "cell_type": "code",
   "execution_count": 14,
   "metadata": {
    "collapsed": false
   },
   "outputs": [],
   "source": [
    "# ae.save_params_to('mnist/conv_ae.np')\n",
    "pickle.dump(ae, open('conv_ae_mnist.pkl','wb'))\n",
    "\n",
    "# ae.layers"
   ]
  },
  {
   "cell_type": "code",
   "execution_count": 15,
   "metadata": {
    "collapsed": false
   },
   "outputs": [
    {
     "name": "stdout",
     "output_type": "stream",
     "text": [
      "took 37.511s\n",
      "(10000, 3, 28, 28) (10000, 3, 28, 28) (50000, 3, 28, 28) (10000, 3, 28, 28)\n"
     ]
    }
   ],
   "source": [
    "#X_pred = ae.predict(Xcolor).reshape(-1,3, 28, 28)\n",
    "import time\n",
    "X_test = np.rint(256. * Xcolor_test).astype(int)\n",
    "X_test = np.clip(X_test, a_min = 0, a_max = 255)\n",
    "X_test = X_test.astype('uint8')\n",
    "\n",
    "start_time = time.time()\n",
    "X_pred = ae.predict(Xcolor_test).reshape(-1,3, 28, 28)\n",
    "print(\"took {:.3f}s\".format(time.time() - start_time))\n",
    "X_pred = np.rint(256. * X_pred).astype(int)\n",
    "X_pred = np.clip(X_pred, a_min = 0, a_max = 255)\n",
    "X_pred = X_pred.astype('uint8')\n",
    "\n",
    "\n",
    "\n",
    "print(X_pred.shape, Xcolor_test.shape , Xcolor.shape,X_test.shape)"
   ]
  },
  {
   "cell_type": "code",
   "execution_count": 16,
   "metadata": {
    "collapsed": false
   },
   "outputs": [
    {
     "name": "stdout",
     "output_type": "stream",
     "text": [
      "Populating the interactive namespace from numpy and matplotlib\n"
     ]
    },
    {
     "name": "stderr",
     "output_type": "stream",
     "text": [
      "/opt/extra/ipython/IPython/core/magics/pylab.py:161: UserWarning: pylab import has clobbered these variables: ['tanh']\n",
      "`%matplotlib` prevents importing * from pylab and numpy\n",
      "  \"\\n`%matplotlib` prevents importing * from pylab and numpy\"\n"
     ]
    },
    {
     "data": {
      "text/plain": [
       "<matplotlib.text.Text at 0x7f8efcb0f210>"
      ]
     },
     "execution_count": 16,
     "metadata": {},
     "output_type": "execute_result"
    },
    {
     "data": {
      "image/png": "[encoded data removed]",
      "text/plain": [
       "<matplotlib.figure.Figure at 0x7f8efc890b10>"
      ]
     },
     "metadata": {},
     "output_type": "display_data"
    }
   ],
   "source": [
    "%pylab inline\n",
    "nn=10\n",
    "orig1=np.rollaxis(X_test[nn], 0, 3)\n",
    "reg1=np.rollaxis(X_pred[nn] , 0, 3)\n",
    "d_in2=orig1.reshape(orig1.shape[0]*orig1.shape[1],orig1.shape[2])\n",
    "d_out2=reg1.reshape(reg1.shape[0]*reg1.shape[1],reg1.shape[2])\n",
    "\n",
    "\n",
    "\n",
    "\n",
    "d_out3=[]\n",
    "for ii in range (d_out2.shape [0]):\n",
    "    #dres=d_in2[ii]\n",
    "    #dres=d_out2[ii]\n",
    "    #print(ii,d_in2[ii].shape)\n",
    "    #print (d_in2[ii])\n",
    "    if ((d_out2[ii][0]>150.7) and (d_in2[ii][0]<100.7) ):\n",
    "        dres=d_out2[ii]\n",
    "    else  :  \n",
    "        dres=d_in2[ii]\n",
    "    dres=d_out2[ii]+d_in2[ii]/2\n",
    "    d_out3.extend([dres])\n",
    "d_out4=np.array(d_out3).reshape(reg1.shape[0],reg1.shape[1],reg1.shape[2])\n",
    "\n",
    "\n",
    "sub1 = plt.subplot(1, 3, 1)\n",
    "plt.imshow( orig1)\n",
    "sub1.set_title(\"orig\")\n",
    "\n",
    "sub2 = plt.subplot(1, 3, 2)\n",
    "plt.imshow(reg1)\n",
    "sub2.set_title(\"predict\")\n",
    "\n",
    "sub3 = plt.subplot(1, 3, 3)\n",
    "plt.imshow(d_out4)\n",
    "sub3.set_title(\"merge\")\n",
    "\n",
    "\n",
    "#print (np.clipoi_a)"
   ]
  },
  {
   "cell_type": "code",
   "execution_count": null,
   "metadata": {
    "collapsed": false
   },
   "outputs": [],
   "source": [
    "next_layer = ae.get_all_layers()[encode_layer_index + 1]\n",
    "final_layer = ae.get_all_layers()[-1]\n",
    "new_layer = InputLayer(shape=(None, encode_layer.num_units))\n",
    "\n",
    "# N.B after we do this, we won't be able to use the original autoencoder , as the layers are broken up\n",
    "next_layer.input_layer = new_layer"
   ]
  },
  {
   "cell_type": "code",
   "execution_count": null,
   "metadata": {
    "collapsed": false
   },
   "outputs": [],
   "source": [
    "def get_output_from_nn(last_layer, X):\n",
    "    return get_output(last_layer,X).eval()\n",
    "\n",
    "def decode_encoded_input(X):\n",
    "    return get_output_from_nn(final_layer, X)\n",
    "\n",
    "#X_decoded = 256 * decode_encoded_input(X_encoded[2])\n",
    "X_decoded = 256 * decode_encoded_input(X_encoded[np.random.randint(10000)])\n",
    "\n",
    "\n",
    "X_decoded = np.rint(X_decoded).astype(int)\n",
    "X_decoded = np.clip(X_decoded, a_min = 0, a_max = 255)\n",
    "X_decoded  = X_decoded.astype('uint8')\n",
    "print(X_decoded.shape)\n",
    "dd2=np.rollaxis(X_decoded.reshape(3,28,28), 0, 3)\n",
    "print(dd2.shape)\n",
    "pic_array = get_picture_arrayC(X_decoded)\n",
    "print (pic_array.shape)\n",
    "#image = Image.fromarray(pic_array,'RGB')\n",
    "#imshow(np.rollaxis(X_decoded.reshape(3,28,28), 0, 3))\n",
    "#image.save('data/test.png', format=\"PNG\")  \n",
    "#IPImage('data/test.png')\n"
   ]
  },
  {
   "cell_type": "code",
   "execution_count": null,
   "metadata": {
    "collapsed": false
   },
   "outputs": [],
   "source": [
    "enc_std = X_encoded.std(axis=0)\n",
    "enc_mean = X_encoded.mean(axis=0)\n",
    "enc_min = X_encoded.min(axis=0)\n",
    "enc_max = X_encoded.max(axis=0)\n",
    "m = X_encoded.shape[1]"
   ]
  },
  {
   "cell_type": "code",
   "execution_count": null,
   "metadata": {
    "collapsed": false
   },
   "outputs": [],
   "source": [
    "n = 256\n",
    "generated = np.random.normal(0, 1, (n, m)) * enc_std + enc_mean\n",
    "generated = generated.astype(np.float32).clip(enc_min, enc_max)\n",
    "X_decoded = decode_encoded_input(generated) * 256.\n",
    "X_decoded = np.rint(X_decoded ).astype(int)\n",
    "X_decoded = np.clip(X_decoded, a_min = 0, a_max = 255)\n",
    "X_decoded  = X_decoded.astype('uint8')\n",
    "!mkdir -p montage\n",
    "for i in range(n):\n",
    "    pic_array = get_picture_array(X_decoded[i], rescale=1)\n",
    "    image = Image.fromarray(pic_array)\n",
    "    image.save('montage/{0:03d}.png'.format(i), format='png')"
   ]
  },
  {
   "cell_type": "code",
   "execution_count": null,
   "metadata": {
    "collapsed": false
   },
   "outputs": [],
   "source": [
    "!montage -mode concatenate -tile 16x montage/*.png montage.png\n",
    "IPImage('montage.png')"
   ]
  },
  {
   "cell_type": "code",
   "execution_count": null,
   "metadata": {
    "collapsed": true
   },
   "outputs": [],
   "source": []
  }
 ],
 "metadata": {
  "kernelspec": {
   "display_name": "Python 2",
   "language": "python",
   "name": "python2"
  },
  "language_info": {
   "codemirror_mode": {
    "name": "ipython",
    "version": 2
   },
   "file_extension": ".py",
   "mimetype": "text/x-python",
   "name": "python",
   "nbconvert_exporter": "python",
   "pygments_lexer": "ipython2",
   "version": "2.7.10"
  }
 },
 "nbformat": 4,
 "nbformat_minor": 0
}
